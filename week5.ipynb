{
 "cells": [
  {
   "cell_type": "markdown",
   "id": "530144c4",
   "metadata": {
    "id": "530144c4"
   },
   "source": [
    "<h1><center>  lab 6: Social Network Analysis </center>\n",
    "    \n",
    "<img src=\"https://files.realpython.com/media/Python-AI-How-to-Build-Your-First-Neural-Network_Watermarked.68fe2ddda7ae.jpg\" width=\"500\">\n"
   ]
  },
  {
   "cell_type": "markdown",
   "id": "c3c7066e",
   "metadata": {
    "id": "c3c7066e"
   },
   "source": [
    "```Created by Jinnie Shin (jinnie.shin@coe.ufl.edu)```\\\n",
    "```Date: June 2nd 2022```\n",
    "\n",
    "```Image source: https://realpython.com/python-encodings-guide/g```\n",
    "\n",
    "\n",
    "\n",
    "<img src=\"https://encrypted-tbn0.gstatic.com/images?q=tbn:ANd9GcQmNf86oJnfhpkPA9LnrFnAbfwF2VywPYpB_w&usqp=CAU\" align=\"left\" width=\"70\" height=\"70\" align=\"left\"> \n",
    "\n",
    " ### Required Packages or Dependencies"
   ]
  },
  {
   "cell_type": "code",
   "execution_count": 5,
   "id": "02eac3c7",
   "metadata": {
    "id": "02eac3c7"
   },
   "outputs": [],
   "source": [
    "#!pip install { } ! in case you run into the `package not avaialble` error\n",
    "import numpy as np\n",
    "import pandas as pd\n",
    "import networkx as nx"
   ]
  },
  {
   "cell_type": "markdown",
   "id": "2a7d0696",
   "metadata": {},
   "source": [
    "# 1. Social Network Analysis \n",
    "<img src=\"https://miro.medium.com/max/1400/1*gaSIh_PKp8RuM0NXTT-QSA.png\" width=\"700\">"
   ]
  },
  {
   "cell_type": "markdown",
   "id": "91fb9d41",
   "metadata": {},
   "source": [
    "### Practice 1: Let's first create a adjacency matrix to create a network using `from_numpy_matrix()`"
   ]
  },
  {
   "cell_type": "code",
   "execution_count": 6,
   "id": "69483812",
   "metadata": {},
   "outputs": [
    {
     "name": "stdout",
     "output_type": "stream",
     "text": [
      "[(0, 0), (0, 1), (1, 1)]\n"
     ]
    },
    {
     "data": {
      "image/png": "[encoded data removed]",
      "text/plain": [
       "<Figure size 432x288 with 1 Axes>"
      ]
     },
     "metadata": {},
     "output_type": "display_data"
    }
   ],
   "source": [
    "A = np.array([[1, 1], [2, 1]])\n",
    "G = nx.from_numpy_matrix(A)\n",
    "\n",
    "print(G.edges())\n",
    "nx.draw(G)"
   ]
  },
  {
   "cell_type": "markdown",
   "id": "acc787fb",
   "metadata": {},
   "source": [
    "### Practice 2: Let's add nodes and edges using `add_edges()` and `add_nodes()`"
   ]
  },
  {
   "cell_type": "markdown",
   "id": "85598e72",
   "metadata": {},
   "source": [
    "|  Object Type |              Networkx         |\n",
    "|:------------|:---------------------------------|\n",
    "| Undirected graph G | `G = nx.Graph()`|\n",
    "| Directed graph G | `G = nx.DiGraph()`|\n",
    "\n",
    "### Let's add the nodes first"
   ]
  },
  {
   "cell_type": "code",
   "execution_count": 7,
   "id": "c901e8f6",
   "metadata": {},
   "outputs": [],
   "source": [
    "\n",
    "G = nx.Graph() # first we will define an empty undirected graph\n",
    "\n",
    "#G.add_node(1) # add one node at a time \n",
    "\n",
    "#G.add_nodes_from([2,3, 4, 5]) # add a list of nodes \n",
    "\n",
    "#nx.draw_spring(G) # draw the nextwork with a spring layout \n",
    "\n",
    "#nx.draw_spring(G, with_labels= True)\n",
    "\n",
    "#G.nodes() # if you wanted to print out the nodes"
   ]
  },
  {
   "cell_type": "markdown",
   "id": "da4e2fec",
   "metadata": {},
   "source": [
    "### Let's add the edges now"
   ]
  },
  {
   "cell_type": "code",
   "execution_count": 8,
   "id": "c7c76cfe",
   "metadata": {},
   "outputs": [
    {
     "data": {
      "text/plain": [
       "EdgeView([(2, 3), (2, 1), (3, 1), (4, 5)])"
      ]
     },
     "execution_count": 8,
     "metadata": {},
     "output_type": "execute_result"
    },
    {
     "data": {
      "image/png": "[encoded data removed]",
      "text/plain": [
       "<Figure size 432x288 with 1 Axes>"
      ]
     },
     "metadata": {},
     "output_type": "display_data"
    }
   ],
   "source": [
    "\n",
    "G.add_edge(2, 3) # add an edge between the nodes 2 and 3\n",
    "\n",
    "G.add_edges_from([(1, 2), (1, 3), (4, 5)]) # add a list of edges \n",
    "\n",
    "nx.draw_spring(G, with_labels= True)\n",
    "\n",
    "np.asarray(nx.adjacency_matrix(G))\n",
    "\n",
    "G.edges() # if you wanted to print out the edges"
   ]
  },
  {
   "cell_type": "markdown",
   "id": "634bc5ce",
   "metadata": {},
   "source": [
    "<img src=\"https://i.pinimg.com/736x/2e/aa/7d/2eaa7d5021ca7c3c98bc93b98b9646fe.jpg\" align=\"left\" width=\"70\" height=\"70\" align=\"left\">\n",
    "\n",
    "\n",
    "### Task 1: Create a undirected graph using `networkx`\n",
    "\n",
    "> **Q1:** Your task is to create a following network `H` either using an **adjaceny matrix**, or by manually adding the edges and nodes.  \n",
    "\n",
    "<img src=\"https://i.stack.imgur.com/0AyxF.png\" width=\"700\">\n"
   ]
  },
  {
   "cell_type": "code",
   "execution_count": null,
   "id": "ac36ffd6",
   "metadata": {},
   "outputs": [],
   "source": [
    "############ your code here ################\n",
    "\n",
    "\n",
    "H= \n",
    "\n",
    "\n",
    "\n",
    "\n",
    "\n",
    "\n",
    "#############################################"
   ]
  },
  {
   "cell_type": "markdown",
   "id": "904b21fd",
   "metadata": {},
   "source": [
    "> **Q2:** Compute the following nextwork statistics \n",
    ">> - The degree centrality using `nx.degree_centrality(H)`\n",
    ">> - The closeness centrality using `nx.closeness_centrality(H)`\n",
    ">> - The betweeness centarlity using `nx.betweeness_centarlity(H)`\n",
    ">> - Eigenvector centrality using `nx.eigenvector_centrality(H)`\n",
    "\n",
    "More indices available: https://networkx.org/documentation/stable/reference/algorithms/centrality.html"
   ]
  },
  {
   "cell_type": "code",
   "execution_count": null,
   "id": "91de1c75",
   "metadata": {},
   "outputs": [],
   "source": [
    "############ your code here ################\n",
    "\n",
    "\n",
    "\n",
    "\n",
    "\n",
    "\n",
    "\n",
    "\n",
    "#############################################"
   ]
  },
  {
   "cell_type": "markdown",
   "id": "34603e77",
   "metadata": {},
   "source": [
    "> Q3: Let's visualize the network using `nx.draw()`"
   ]
  },
  {
   "cell_type": "code",
   "execution_count": null,
   "id": "24c8eb4a",
   "metadata": {},
   "outputs": [],
   "source": [
    "############ your code here ################\n",
    "\n",
    "\n",
    "\n",
    "\n",
    "\n",
    "\n",
    "#############################################"
   ]
  },
  {
   "cell_type": "markdown",
   "id": "dc56a976",
   "metadata": {},
   "source": [
    "#  2. Advanced Algorithms in SNA \n",
    "- ###  HITS (Hyperlink Induced Topic Search)\n",
    "> The algorithm is used to the web link-structures to discover and rank the webpages relevant for a particular search. HITS uses **hubs** and **authorities** to define a recursive relationship between webpages. \n",
    "> - Authority: A node is high-quality if many high-quality nodes link to it\n",
    "> - Hub: A node is high-quality if it links to many high-quality nodes\n",
    "\n",
    "- #### Algorithm Steps\n",
    "1. Initialize the hub and authority of each node with a value of 1\n",
    "2. For each iteration, update the hub and authority of every node in the graph\n",
    "3. The new authority is the sum of the hub of its parents\n",
    "4. The new hub is the sum of the authority of its children\n",
    "5. Normalize the new authority and hub\n",
    "\n",
    "- #### Zachary’s Karate Club graph Data (from networkx)\n",
    "\n",
    "> Each node in the returned graph has a node attribute 'club' that indicates the name of the club to which the member represented by that node belongs, either `Mr. Hi` or `Officer`."
   ]
  },
  {
   "cell_type": "code",
   "execution_count": 14,
   "id": "18c5ea23",
   "metadata": {},
   "outputs": [],
   "source": [
    "\n",
    "ex =  nx.karate_club_graph()\n",
    "\n",
    "# Let's take a look at how many nodes/edges we have in this data `ex`\n",
    "\n",
    "\n",
    "# Let's visualize the network \n",
    "\n",
    "\n",
    "\n",
    "# Let's look at the metadata \n",
    "#G.node[5]['club']\n"
   ]
  },
  {
   "cell_type": "code",
   "execution_count": 17,
   "id": "68f263b1",
   "metadata": {},
   "outputs": [],
   "source": [
    "# Let's extract the adjacency matrix\n",
    "\n",
    "A = nx.convert_matrix.to_numpy_matrix(ex)\n"
   ]
  },
  {
   "cell_type": "markdown",
   "id": "adb3da94",
   "metadata": {},
   "source": [
    "<img src=\"https://i.pinimg.com/736x/2e/aa/7d/2eaa7d5021ca7c3c98bc93b98b9646fe.jpg\" align=\"left\" width=\"70\" height=\"70\" align=\"left\">\n",
    "\n",
    " ## Task 2: Identifying Hubs and Authorities \n",
    " > **STEP 1**: Apply the HITS algorithm using `hubs, authorities = nx.hits(ex, normalized = True)`\\\n",
    " > **STEP 2**: Print hub and authories"
   ]
  },
  {
   "cell_type": "code",
   "execution_count": 16,
   "id": "abbacbcc",
   "metadata": {},
   "outputs": [],
   "source": [
    "#Let's apply the HITS algorithm \n",
    "\n",
    "\n",
    "\n"
   ]
  },
  {
   "cell_type": "markdown",
   "id": "e92a7933",
   "metadata": {},
   "source": [
    "#  3. Social Network Analysis and Educational Assessments\n",
    "## 1. Community Detection \n",
    "> In this task, we will try to find a \"natural\" social communities that occur during the problem-solving assessment. Students could interact with each other to get / provide help. \n",
    "<img src=\"https://miro.medium.com/proxy/1*fVGpU47jjKRVKdiYqeODkw.png\" width=\"400\">\n",
    "\n",
    "\n",
    "> Potential questions we may need to ask/answer:\n",
    ">> - RQ1: Do students in the same communitiy share similar problem solving strategies?\n",
    ">> - RQ2: Does the community associate with students' problem-solving abilities?\n",
    ">> - So many more!!\n",
    " \n",
    "### 1.1 Let's import the dataset"
   ]
  },
  {
   "cell_type": "code",
   "execution_count": 18,
   "id": "93418ab2",
   "metadata": {},
   "outputs": [],
   "source": [
    "G = nx.read_edgelist(\"./week4_data/data.txt\",nodetype=int,data=False,create_using=nx.Graph)\n",
    "\n",
    "# let's see how many students we have in this network \n",
    "\n",
    "\n",
    "\n",
    "# let's see how many interactions we caputered \n",
    "\n"
   ]
  },
  {
   "cell_type": "markdown",
   "id": "19be0a1e",
   "metadata": {},
   "source": [
    "The **Girvan-Newmann algorithm** tries to separate a network into communities (see: https://en.wikipedia.org/wiki/Girvan–Newman_algorithm)\n",
    "- by cutting these edges with high betweenness centrality\n",
    "- calculates edge betweenness centrality for every edge and then removes the one with the highest score \n",
    "- repeated until the desired number of communities is identified\n",
    "\n",
    "### 1.2 Let's visualize the original network first"
   ]
  },
  {
   "cell_type": "code",
   "execution_count": null,
   "id": "20522c1d",
   "metadata": {},
   "outputs": [],
   "source": [
    "### Let's explore!\n",
    "\n",
    "\n",
    "\n"
   ]
  },
  {
   "cell_type": "code",
   "execution_count": 224,
   "id": "66fb36ed",
   "metadata": {},
   "outputs": [
    {
     "data": {
      "text/html": [
       "\n",
       "        <iframe\n",
       "            width=\"800\"\n",
       "            height=\"800\"\n",
       "            src=\"Student_network_original.html\"\n",
       "            frameborder=\"0\"\n",
       "            allowfullscreen\n",
       "            \n",
       "        ></iframe>\n",
       "        "
      ],
      "text/plain": [
       "<IPython.lib.display.IFrame at 0x29c354df0>"
      ]
     },
     "execution_count": 224,
     "metadata": {},
     "output_type": "execute_result"
    }
   ],
   "source": [
    "from pyvis.network import Network # we will use this python visualizer `pyvis`. !pip install pyvis \n",
    " \n",
    "g=Network(height=800, width=800, notebook=True, font_color=\"black\") # here 'g' represents the network generator\n",
    "g.toggle_hide_edges_on_drag(True)\n",
    "\n",
    "g.from_nx(G)\n",
    "g.show_buttons(filter_=True)\n",
    "\n",
    "g.show('Student_network_original.html') #this should be in your folder now "
   ]
  },
  {
   "cell_type": "markdown",
   "id": "03859633",
   "metadata": {},
   "source": [
    "### 1.3 Let's apply the Girvan–Newman algorithm for community detection"
   ]
  },
  {
   "cell_type": "code",
   "execution_count": 225,
   "id": "2e20e3cb",
   "metadata": {},
   "outputs": [],
   "source": [
    "from networkx.algorithms import community\n",
    "communities_generator = community.girvan_newman(G)\n",
    "\n",
    "#communities = tuple(sorted(c) for c in next(communities_generator))"
   ]
  },
  {
   "cell_type": "code",
   "execution_count": 71,
   "id": "103853ba",
   "metadata": {},
   "outputs": [],
   "source": [
    "### Let's explore!\n",
    "\n"
   ]
  },
  {
   "cell_type": "markdown",
   "id": "24e81806",
   "metadata": {},
   "source": [
    "### 1.4 Let's apply the k clique algorithm for community detection\n",
    "\n",
    "<img src=\"https://www.researchgate.net/profile/Yuhua-Li-14/publication/241047149/figure/fig2/AS:669133683306496@1536545310002/K-cliques-and-k-clique-clusters.png\" width=\"600\">\n",
    "\n",
    "> **a k-clique** is a relaxed clique, i.e., a k-clique is a quasi-complete sub-graph. A k-clique in a graph is a sub-graph where the distance between any two vertices is no greater than k\\\n",
    "> Image Source: https://www.researchgate.net/profile/Yuhua-Li-14/publication/241047149/figure/fig2/AS:669133683306496@1536545310002/K-cliques-and-k-clique-clusters.png"
   ]
  },
  {
   "cell_type": "code",
   "execution_count": 108,
   "id": "05b1a713",
   "metadata": {},
   "outputs": [],
   "source": [
    "from networkx.algorithms.community import k_clique_communities\n",
    "\n",
    "communities_2 = [list(i) for i in k_clique_communities(G, 4)]\n",
    "      \n",
    "                     \n",
    "        "
   ]
  },
  {
   "cell_type": "markdown",
   "id": "b1feb952",
   "metadata": {},
   "source": [
    "#### Create a dictionary that saves the decision "
   ]
  },
  {
   "cell_type": "code",
   "execution_count": 103,
   "id": "58dc921b",
   "metadata": {},
   "outputs": [],
   "source": [
    "communities_2_dict ={}\n",
    "k = 0\n",
    "for i in communities_2:\n",
    "    for j in i:\n",
    "        communities_2_dict[j] = k\n",
    "    k+=1"
   ]
  },
  {
   "cell_type": "markdown",
   "id": "82c7b540",
   "metadata": {},
   "source": [
    "#### Visualize the network "
   ]
  },
  {
   "cell_type": "code",
   "execution_count": 104,
   "id": "f3f3faff",
   "metadata": {},
   "outputs": [],
   "source": [
    "# define a list of 95 different colors\n",
    "# generated with the site: iwanthue (https://medialab.github.io/iwanthue/)\n",
    "color_list = [\"#0157a1\", \"#77f431\", \"#000cb3\", \"#e4ff3f\",\n",
    "\"#6213c6\", \"#1abd00\", \"#ab39eb\", \"#00c932\", \"#e232e8\",\n",
    "\"#2a9b00\", \"#975bff\", \"#aecf00\", \"#01119c\", \"#ffe02b\",\n",
    "\"#5565ff\", \"#c1ff73\", \"#a5009f\", \"#00ca5f\", \"#ff64e7\",\n",
    "\"#43ffa5\", \"#f60095\", \"#76ffa5\", \"#ff50c9\", \"#a0ffa4\",\n",
    "\"#3a0067\", \"#f6ff7f\", \"#00216e\", \"#e5bc00\", \"#e378ff\",\n",
    "\"#aab000\", \"#828bff\", \"#ff7910\", \"#0281e2\", \"#e08900\",\n",
    "\"#019def\", \"#ff3f2b\", \"#01e0d3\", \"#da0120\", \"#03bde6\",\n",
    "\"#d04b00\", \"#819cff\", \"#648e00\", \"#ff46ad\", \"#018436\",\n",
    "\"#b40078\", \"#01a165\", \"#ca0067\", \"#3d7900\", \"#640063\",\n",
    "\"#f2ffa5\", \"#16003e\", \"#f3ffbe\", \"#0f002d\", \"#ffd580\",\n",
    "\"#000c26\", \"#ff6b47\", \"#01ad92\", \"#ff5552\", \"#85e2ff\",\n",
    "\"#b5002d\", \"#b4ffec\", \"#8e0023\", \"#e4ffe9\", \"#82004f\",\n",
    "\"#667000\", \"#feaaff\", \"#284f00\", \"#b8a8ff\", \"#8d6d00\",\n",
    "\"#8dbfff\", \"#724200\", \"#0174ae\", \"#ff4f70\", \"#00512a\",\n",
    "\"#ff9acb\", \"#0f2a00\", \"#ffedfe\", \"#000a05\", \"#f9fffd\",\n",
    "\"#280e00\", \"#c9f1ff\", \"#6b001f\", \"#e3d2ff\", \"#571800\",\n",
    "\"#ffdec2\", \"#003361\", \"#ff8a77\", \"#00353c\", \"#ff839a\",\n",
    "\"#018093\", \"#ffb094\", \"#00506d\", \"#ffbeb9\", \"#371400\",\n",
    "\"#342c00\"]\n",
    "\n",
    "color_list = color_list[0:len(communities_2)]\n",
    "color_dict = pd.Series(color_list, index=np.arange(0,len(communities_2))).to_dict()\n",
    "for key, value in communities_2_dict.items():\n",
    "    communities_2_dict[key] = color_dict[value]\n",
    "\n",
    "nx.set_node_attributes(G, communities_2_dict, 'color')\n",
    "\n",
    "g=Network(height=800, width=800, notebook=True, font_color=\"black\") # here 'g' represents the network generator\n",
    "g.toggle_hide_edges_on_drag(True)\n",
    "g.barnes_hut()\n",
    "g.from_nx(G)\n",
    "g.show_buttons(filter_=True)\n",
    "\n",
    "g.show('Student_network_original.html') #this should be in your folder now \n",
    "\n"
   ]
  },
  {
   "cell_type": "markdown",
   "id": "8130171b",
   "metadata": {},
   "source": [
    "## 2. Problem solving process modelling \n",
    "- US Public use data (PIAAC - US Public Use Files (PUF) 2012.csv) \n",
    "- export_raw_log_for_all_items_all_variables.txt\n",
    "\n",
    "> Booklet Info: https://piaac-logdata.tba-hosting.de/additionalinformation.html \\\n",
    "> General event type description: https://piaac-logdata.tba-hosting.de/additionalinformation.html \\\n",
    "> Code book: https://docs.google.com/spreadsheets/d/1OJwlib4qiWpCgn35tHgbKhG0qX5-76Vd/edit?usp=drive_web&ouid=111988984904105753234&rtpof=true\n",
    "\n",
    "#### Import the data "
   ]
  },
  {
   "cell_type": "code",
   "execution_count": 2,
   "id": "79178b43",
   "metadata": {},
   "outputs": [
    {
     "ename": "FileNotFoundError",
     "evalue": "[Errno 2] No such file or directory: './week4_data/export_raw_log_for_all_items_all_variables copy.tsv'",
     "output_type": "error",
     "traceback": [
      "\u001b[0;31m---------------------------------------------------------------------------\u001b[0m",
      "\u001b[0;31mFileNotFoundError\u001b[0m                         Traceback (most recent call last)",
      "\u001b[0;32m/var/folders/fb/h76bxzm91r32gmwmtqr_zgvm0000gn/T/ipykernel_28187/2280545265.py\u001b[0m in \u001b[0;36m<module>\u001b[0;34m\u001b[0m\n\u001b[1;32m      5\u001b[0m \u001b[0mdir_\u001b[0m \u001b[0;34m=\u001b[0m \u001b[0;34m'./week4_data/'\u001b[0m \u001b[0;31m# your directory\u001b[0m\u001b[0;34m\u001b[0m\u001b[0;34m\u001b[0m\u001b[0m\n\u001b[1;32m      6\u001b[0m \u001b[0;34m\u001b[0m\u001b[0m\n\u001b[0;32m----> 7\u001b[0;31m \u001b[0mdat\u001b[0m \u001b[0;34m=\u001b[0m \u001b[0mpd\u001b[0m\u001b[0;34m.\u001b[0m\u001b[0mread_csv\u001b[0m\u001b[0;34m(\u001b[0m\u001b[0mdir_\u001b[0m\u001b[0;34m+\u001b[0m\u001b[0;34m'export_raw_log_for_all_items_all_variables copy.tsv'\u001b[0m\u001b[0;34m,\u001b[0m \u001b[0msep\u001b[0m\u001b[0;34m=\u001b[0m\u001b[0;34m'\\t'\u001b[0m\u001b[0;34m)\u001b[0m\u001b[0;34m\u001b[0m\u001b[0;34m\u001b[0m\u001b[0m\n\u001b[0m\u001b[1;32m      8\u001b[0m \u001b[0mdat\u001b[0m\u001b[0;34m[\u001b[0m\u001b[0;34m'Student_id'\u001b[0m\u001b[0;34m]\u001b[0m \u001b[0;34m=\u001b[0m \u001b[0mdat\u001b[0m\u001b[0;34m.\u001b[0m\u001b[0mCNTRYID\u001b[0m \u001b[0;34m+\u001b[0m \u001b[0;34m'_'\u001b[0m \u001b[0;34m+\u001b[0m \u001b[0mdat\u001b[0m\u001b[0;34m.\u001b[0m\u001b[0mSEQID\u001b[0m\u001b[0;34m.\u001b[0m\u001b[0mastype\u001b[0m\u001b[0;34m(\u001b[0m\u001b[0mstr\u001b[0m \u001b[0;34m)\u001b[0m\u001b[0;34m\u001b[0m\u001b[0;34m\u001b[0m\u001b[0m\n\u001b[1;32m      9\u001b[0m \u001b[0mdat\u001b[0m \u001b[0;34m=\u001b[0m \u001b[0mdat\u001b[0m\u001b[0;34m.\u001b[0m\u001b[0mset_index\u001b[0m\u001b[0;34m(\u001b[0m\u001b[0;34m'Student_id'\u001b[0m\u001b[0;34m)\u001b[0m\u001b[0;34m\u001b[0m\u001b[0;34m\u001b[0m\u001b[0m\n",
      "\u001b[0;32m/opt/anaconda3/lib/python3.8/site-packages/pandas/util/_decorators.py\u001b[0m in \u001b[0;36mwrapper\u001b[0;34m(*args, **kwargs)\u001b[0m\n\u001b[1;32m    309\u001b[0m                     \u001b[0mstacklevel\u001b[0m\u001b[0;34m=\u001b[0m\u001b[0mstacklevel\u001b[0m\u001b[0;34m,\u001b[0m\u001b[0;34m\u001b[0m\u001b[0;34m\u001b[0m\u001b[0m\n\u001b[1;32m    310\u001b[0m                 )\n\u001b[0;32m--> 311\u001b[0;31m             \u001b[0;32mreturn\u001b[0m \u001b[0mfunc\u001b[0m\u001b[0;34m(\u001b[0m\u001b[0;34m*\u001b[0m\u001b[0margs\u001b[0m\u001b[0;34m,\u001b[0m \u001b[0;34m**\u001b[0m\u001b[0mkwargs\u001b[0m\u001b[0;34m)\u001b[0m\u001b[0;34m\u001b[0m\u001b[0;34m\u001b[0m\u001b[0m\n\u001b[0m\u001b[1;32m    312\u001b[0m \u001b[0;34m\u001b[0m\u001b[0m\n\u001b[1;32m    313\u001b[0m         \u001b[0;32mreturn\u001b[0m \u001b[0mwrapper\u001b[0m\u001b[0;34m\u001b[0m\u001b[0;34m\u001b[0m\u001b[0m\n",
      "\u001b[0;32m/opt/anaconda3/lib/python3.8/site-packages/pandas/io/parsers/readers.py\u001b[0m in \u001b[0;36mread_csv\u001b[0;34m(filepath_or_buffer, sep, delimiter, header, names, index_col, usecols, squeeze, prefix, mangle_dupe_cols, dtype, engine, converters, true_values, false_values, skipinitialspace, skiprows, skipfooter, nrows, na_values, keep_default_na, na_filter, verbose, skip_blank_lines, parse_dates, infer_datetime_format, keep_date_col, date_parser, dayfirst, cache_dates, iterator, chunksize, compression, thousands, decimal, lineterminator, quotechar, quoting, doublequote, escapechar, comment, encoding, encoding_errors, dialect, error_bad_lines, warn_bad_lines, on_bad_lines, delim_whitespace, low_memory, memory_map, float_precision, storage_options)\u001b[0m\n\u001b[1;32m    678\u001b[0m     \u001b[0mkwds\u001b[0m\u001b[0;34m.\u001b[0m\u001b[0mupdate\u001b[0m\u001b[0;34m(\u001b[0m\u001b[0mkwds_defaults\u001b[0m\u001b[0;34m)\u001b[0m\u001b[0;34m\u001b[0m\u001b[0;34m\u001b[0m\u001b[0m\n\u001b[1;32m    679\u001b[0m \u001b[0;34m\u001b[0m\u001b[0m\n\u001b[0;32m--> 680\u001b[0;31m     \u001b[0;32mreturn\u001b[0m \u001b[0m_read\u001b[0m\u001b[0;34m(\u001b[0m\u001b[0mfilepath_or_buffer\u001b[0m\u001b[0;34m,\u001b[0m \u001b[0mkwds\u001b[0m\u001b[0;34m)\u001b[0m\u001b[0;34m\u001b[0m\u001b[0;34m\u001b[0m\u001b[0m\n\u001b[0m\u001b[1;32m    681\u001b[0m \u001b[0;34m\u001b[0m\u001b[0m\n\u001b[1;32m    682\u001b[0m \u001b[0;34m\u001b[0m\u001b[0m\n",
      "\u001b[0;32m/opt/anaconda3/lib/python3.8/site-packages/pandas/io/parsers/readers.py\u001b[0m in \u001b[0;36m_read\u001b[0;34m(filepath_or_buffer, kwds)\u001b[0m\n\u001b[1;32m    573\u001b[0m \u001b[0;34m\u001b[0m\u001b[0m\n\u001b[1;32m    574\u001b[0m     \u001b[0;31m# Create the parser.\u001b[0m\u001b[0;34m\u001b[0m\u001b[0;34m\u001b[0m\u001b[0;34m\u001b[0m\u001b[0m\n\u001b[0;32m--> 575\u001b[0;31m     \u001b[0mparser\u001b[0m \u001b[0;34m=\u001b[0m \u001b[0mTextFileReader\u001b[0m\u001b[0;34m(\u001b[0m\u001b[0mfilepath_or_buffer\u001b[0m\u001b[0;34m,\u001b[0m \u001b[0;34m**\u001b[0m\u001b[0mkwds\u001b[0m\u001b[0;34m)\u001b[0m\u001b[0;34m\u001b[0m\u001b[0;34m\u001b[0m\u001b[0m\n\u001b[0m\u001b[1;32m    576\u001b[0m \u001b[0;34m\u001b[0m\u001b[0m\n\u001b[1;32m    577\u001b[0m     \u001b[0;32mif\u001b[0m \u001b[0mchunksize\u001b[0m \u001b[0;32mor\u001b[0m \u001b[0miterator\u001b[0m\u001b[0;34m:\u001b[0m\u001b[0;34m\u001b[0m\u001b[0;34m\u001b[0m\u001b[0m\n",
      "\u001b[0;32m/opt/anaconda3/lib/python3.8/site-packages/pandas/io/parsers/readers.py\u001b[0m in \u001b[0;36m__init__\u001b[0;34m(self, f, engine, **kwds)\u001b[0m\n\u001b[1;32m    931\u001b[0m \u001b[0;34m\u001b[0m\u001b[0m\n\u001b[1;32m    932\u001b[0m         \u001b[0mself\u001b[0m\u001b[0;34m.\u001b[0m\u001b[0mhandles\u001b[0m\u001b[0;34m:\u001b[0m \u001b[0mIOHandles\u001b[0m \u001b[0;34m|\u001b[0m \u001b[0;32mNone\u001b[0m \u001b[0;34m=\u001b[0m \u001b[0;32mNone\u001b[0m\u001b[0;34m\u001b[0m\u001b[0;34m\u001b[0m\u001b[0m\n\u001b[0;32m--> 933\u001b[0;31m         \u001b[0mself\u001b[0m\u001b[0;34m.\u001b[0m\u001b[0m_engine\u001b[0m \u001b[0;34m=\u001b[0m \u001b[0mself\u001b[0m\u001b[0;34m.\u001b[0m\u001b[0m_make_engine\u001b[0m\u001b[0;34m(\u001b[0m\u001b[0mf\u001b[0m\u001b[0;34m,\u001b[0m \u001b[0mself\u001b[0m\u001b[0;34m.\u001b[0m\u001b[0mengine\u001b[0m\u001b[0;34m)\u001b[0m\u001b[0;34m\u001b[0m\u001b[0;34m\u001b[0m\u001b[0m\n\u001b[0m\u001b[1;32m    934\u001b[0m \u001b[0;34m\u001b[0m\u001b[0m\n\u001b[1;32m    935\u001b[0m     \u001b[0;32mdef\u001b[0m \u001b[0mclose\u001b[0m\u001b[0;34m(\u001b[0m\u001b[0mself\u001b[0m\u001b[0;34m)\u001b[0m\u001b[0;34m:\u001b[0m\u001b[0;34m\u001b[0m\u001b[0;34m\u001b[0m\u001b[0m\n",
      "\u001b[0;32m/opt/anaconda3/lib/python3.8/site-packages/pandas/io/parsers/readers.py\u001b[0m in \u001b[0;36m_make_engine\u001b[0;34m(self, f, engine)\u001b[0m\n\u001b[1;32m   1215\u001b[0m             \u001b[0;31m# \"Union[str, PathLike[str], ReadCsvBuffer[bytes], ReadCsvBuffer[str]]\"\u001b[0m\u001b[0;34m\u001b[0m\u001b[0;34m\u001b[0m\u001b[0;34m\u001b[0m\u001b[0m\n\u001b[1;32m   1216\u001b[0m             \u001b[0;31m# , \"str\", \"bool\", \"Any\", \"Any\", \"Any\", \"Any\", \"Any\"\u001b[0m\u001b[0;34m\u001b[0m\u001b[0;34m\u001b[0m\u001b[0;34m\u001b[0m\u001b[0m\n\u001b[0;32m-> 1217\u001b[0;31m             self.handles = get_handle(  # type: ignore[call-overload]\n\u001b[0m\u001b[1;32m   1218\u001b[0m                 \u001b[0mf\u001b[0m\u001b[0;34m,\u001b[0m\u001b[0;34m\u001b[0m\u001b[0;34m\u001b[0m\u001b[0m\n\u001b[1;32m   1219\u001b[0m                 \u001b[0mmode\u001b[0m\u001b[0;34m,\u001b[0m\u001b[0;34m\u001b[0m\u001b[0;34m\u001b[0m\u001b[0m\n",
      "\u001b[0;32m/opt/anaconda3/lib/python3.8/site-packages/pandas/io/common.py\u001b[0m in \u001b[0;36mget_handle\u001b[0;34m(path_or_buf, mode, encoding, compression, memory_map, is_text, errors, storage_options)\u001b[0m\n\u001b[1;32m    787\u001b[0m         \u001b[0;32mif\u001b[0m \u001b[0mioargs\u001b[0m\u001b[0;34m.\u001b[0m\u001b[0mencoding\u001b[0m \u001b[0;32mand\u001b[0m \u001b[0;34m\"b\"\u001b[0m \u001b[0;32mnot\u001b[0m \u001b[0;32min\u001b[0m \u001b[0mioargs\u001b[0m\u001b[0;34m.\u001b[0m\u001b[0mmode\u001b[0m\u001b[0;34m:\u001b[0m\u001b[0;34m\u001b[0m\u001b[0;34m\u001b[0m\u001b[0m\n\u001b[1;32m    788\u001b[0m             \u001b[0;31m# Encoding\u001b[0m\u001b[0;34m\u001b[0m\u001b[0;34m\u001b[0m\u001b[0;34m\u001b[0m\u001b[0m\n\u001b[0;32m--> 789\u001b[0;31m             handle = open(\n\u001b[0m\u001b[1;32m    790\u001b[0m                 \u001b[0mhandle\u001b[0m\u001b[0;34m,\u001b[0m\u001b[0;34m\u001b[0m\u001b[0;34m\u001b[0m\u001b[0m\n\u001b[1;32m    791\u001b[0m                 \u001b[0mioargs\u001b[0m\u001b[0;34m.\u001b[0m\u001b[0mmode\u001b[0m\u001b[0;34m,\u001b[0m\u001b[0;34m\u001b[0m\u001b[0;34m\u001b[0m\u001b[0m\n",
      "\u001b[0;31mFileNotFoundError\u001b[0m: [Errno 2] No such file or directory: './week4_data/export_raw_log_for_all_items_all_variables copy.tsv'"
     ]
    }
   ],
   "source": [
    "import pandas as pd\n",
    "\n",
    "# this is to import and generate a dataframe using the process data \n",
    "\n",
    "dir_ = './week4_data/' # your directory \n",
    "\n",
    "dat = pd.read_csv(dir_+'export_raw_log_for_all_items_all_variables copy.tsv', sep='\\t')   \n",
    "dat['Student_id'] = dat.CNTRYID + '_' + dat.SEQID.astype(str )\n",
    "dat = dat.set_index('Student_id')\n",
    "\n",
    "dat2 = pd.read_csv(dir_+'PIAAC - US Public Use Files (PUF) 2012.csv')"
   ]
  },
  {
   "cell_type": "markdown",
   "id": "971c085d",
   "metadata": {},
   "source": [
    "#### Necessary functions to preprocess the data"
   ]
  },
  {
   "cell_type": "code",
   "execution_count": 214,
   "id": "c1a5ee19",
   "metadata": {},
   "outputs": [],
   "source": [
    "def item_score(x):\n",
    "    try: \n",
    "        x= [i for i in x if 'result=' in i]\n",
    "        x = x[0].replace('result=\"true\"', '1')\n",
    "        x = x.replace('result=\"false\"', '0')\n",
    "        return x \n",
    "    except:\n",
    "        None\n",
    "\n",
    "def item_name(x):\n",
    "    try: \n",
    "        x = [i for i in x if 'name=' in i]\n",
    "        x = x[0].split('=')[1].replace('\"', '')\n",
    "        return x\n",
    "    except:\n",
    "        None\n",
    "\n",
    "def data_import(dat, dat2):\n",
    "    temp = dat[dat.event_type =='ItemScore']['event_description'].apply(lambda x: x.split(' '))\n",
    "    score= temp.apply( item_score)\n",
    "    name = temp.apply(item_name)\n",
    "    data = pd.concat([score, name], axis=1)\n",
    "    data.columns = ['score', 'item_number']\n",
    "    data = data.reset_index()\n",
    "\n",
    "    # this is the final public use data = dat2[dat2.SEQID.isin(dat.SEQID.tolist())]\n",
    "    dat2 = dat2[dat2.SEQID.isin(dat.SEQID.tolist())]\n",
    "    pbs = [i for i in dat2.columns if 'U' ==i[0]]\n",
    "    dat2_pbs = dat2[['SEQID']+pbs] # Let's drop any column that has no participation\n",
    "\n",
    "    dat_pbs = dat[dat.booklet_id.isin(['PS1', 'PS2'])]\n",
    "    dat2_pbs = dat2_pbs[dat2_pbs.SEQID.isin(dat_pbs.SEQID.tolist())]\n",
    "    \n",
    "    dat2_pbs = dat2_pbs.set_index('SEQID')\n",
    "    return dat_pbs, dat2_pbs \n",
    "\n",
    "dat_pbs, dat2_pbs = data_import(dat, dat2)\n",
    "booklet_assign = pd.DataFrame(dat_pbs.groupby('SEQID')['booklet_id'].apply(set))"
   ]
  },
  {
   "cell_type": "markdown",
   "id": "84f77399",
   "metadata": {},
   "source": [
    "#### visualize participants' item solving process "
   ]
  },
  {
   "cell_type": "code",
   "execution_count": 3,
   "id": "66d57b06",
   "metadata": {
    "scrolled": true
   },
   "outputs": [
    {
     "data": {
      "text/html": [
       "\n",
       "        <iframe\n",
       "            width=\"800\"\n",
       "            height=\"800\"\n",
       "            src=\"item_solving_steps.html\"\n",
       "            frameborder=\"0\"\n",
       "            allowfullscreen\n",
       "            \n",
       "        ></iframe>\n",
       "        "
      ],
      "text/plain": [
       "<IPython.lib.display.IFrame at 0x16cb834c0>"
      ]
     },
     "execution_count": 3,
     "metadata": {},
     "output_type": "execute_result"
    }
   ],
   "source": [
    "\n",
    "def visualize_action(SEQID =10, item=1, book='PS1'):\n",
    "    import networkx as nx\n",
    "    G = nx.DiGraph()\n",
    "    ex_actions = dat_pbs[(dat_pbs.SEQID == SEQID) & (dat_pbs.item_id ==item) & (dat_pbs.booklet_id == book)][['event_type', 'timestamp']]\n",
    "    time = ex_actions['timestamp'].diff().fillna(0)\n",
    "    \n",
    "    edges = []\n",
    "    for i in range(len(ex_actions['event_type'].tolist())):\n",
    "        try:\n",
    "            temp = (ex_actions['event_type'].tolist()[i], ex_actions['event_type'].tolist()[i+1])\n",
    "            edges.append(temp)\n",
    "        except: \n",
    "            None\n",
    "    import networkx as nx \n",
    "    #G=nx.from_edgelist(edges)\n",
    "    from collections import Counter\n",
    "    weight_dic = dict(Counter(edges))\n",
    "    G = nx.Graph()\n",
    "    G.add_nodes_from(ex_actions['event_type'].tolist())\n",
    "    for i, j in zip(edges, time.tolist()):\n",
    "        G.add_edge(i[0], i[1], weight=weight_dic[(i[0], i[1])] )\n",
    "    G.add_node('START',size=15, group=2)\n",
    "    return G \n",
    "\n",
    "G= visualize_action(SEQID=10, item=1, book='PS1') # this is your controller \n",
    "\n",
    "from pyvis.network import Network\n",
    "g=Network(height=800, width=800, notebook=True, font_color=\"black\")\n",
    "g.toggle_hide_edges_on_drag(True)\n",
    "#g.barnes_hut()\n",
    "g.from_nx(G)\n",
    "g.show_buttons(filter_=True)\n",
    "g.show('item_solving_steps.html')\n",
    "\n"
   ]
  },
  {
   "cell_type": "markdown",
   "id": "2b60a710",
   "metadata": {},
   "source": [
    "### TASK 1: Aggergate the actions "
   ]
  },
  {
   "cell_type": "code",
   "execution_count": 52,
   "id": "05bd5413",
   "metadata": {},
   "outputs": [
    {
     "data": {
      "text/html": [
       "\n",
       "        <iframe\n",
       "            width=\"800\"\n",
       "            height=\"800\"\n",
       "            src=\"item_solving_steps.html\"\n",
       "            frameborder=\"0\"\n",
       "            allowfullscreen\n",
       "            \n",
       "        ></iframe>\n",
       "        "
      ],
      "text/plain": [
       "<IPython.lib.display.IFrame at 0x16cc9f8e0>"
      ]
     },
     "execution_count": 52,
     "metadata": {},
     "output_type": "execute_result"
    }
   ],
   "source": [
    "\n",
    "def visualize_action(item=1, book='PS1'):\n",
    "    import networkx as nx\n",
    "    G = nx.DiGraph()\n",
    "    ex_actions = dat_pbs[(dat_pbs.item_id ==item) & (dat_pbs.booklet_id == book)][['event_type', 'timestamp']]\n",
    "    time = ex_actions['timestamp'].diff().fillna(0)\n",
    "    \n",
    "    edges = []\n",
    "    for i in range(len(ex_actions['event_type'].tolist())):\n",
    "        try:\n",
    "            temp = (ex_actions['event_type'].tolist()[i], ex_actions['event_type'].tolist()[i+1])\n",
    "            edges.append(temp)\n",
    "        except: \n",
    "            None\n",
    "    import networkx as nx \n",
    "    #G=nx.from_edgelist(edges)\n",
    "    from collections import Counter\n",
    "    weight_dic = dict(Counter(edges))\n",
    "    G = nx.Graph()\n",
    "    G.add_nodes_from(ex_actions['event_type'].tolist())\n",
    "    for i, j in zip(edges, time.tolist()):\n",
    "        G.add_edge(i[0], i[1], weight=weight_dic[(i[0], i[1])] )\n",
    "    G.add_node('START',size=15, group=2)\n",
    "    return G \n",
    "\n",
    "G= visualize_action(item=1, book='PS1') # this is your controller \n",
    "\n",
    "from pyvis.network import Network\n",
    "g=Network(height=800, width=800, notebook=True, font_color=\"black\")\n",
    "g.toggle_hide_edges_on_drag(True)\n",
    "#g.barnes_hut()\n",
    "g.from_nx(G)\n",
    "g.show_buttons(filter_=True)\n",
    "g.show('item_solving_steps.html')\n",
    "\n"
   ]
  },
  {
   "cell_type": "code",
   "execution_count": 19,
   "id": "b82a3e2f",
   "metadata": {},
   "outputs": [],
   "source": [
    "#Let's print all the nodes \n",
    "\n"
   ]
  },
  {
   "cell_type": "code",
   "execution_count": 20,
   "id": "3d3a1bf5",
   "metadata": {},
   "outputs": [],
   "source": [
    "#Let's print all the edges\n",
    "\n"
   ]
  },
  {
   "cell_type": "markdown",
   "id": "13161618",
   "metadata": {},
   "source": [
    "### TASK 2: Network Statistics "
   ]
  },
  {
   "cell_type": "code",
   "execution_count": 22,
   "id": "7a44660f",
   "metadata": {},
   "outputs": [],
   "source": [
    "def getCentralization(centrality, c_type):\n",
    "    c_denominator = float(1)\n",
    "    n_val = float(len(centrality))\n",
    "    if (c_type==\"degree\"):\n",
    "        c_denominator = (n_val-1)*(n_val-2)\n",
    "    \n",
    "    if (c_type==\"close\"):\n",
    "        c_top = (n_val-1)*(n_val-2)\n",
    "        c_bottom = (2*n_val)-3\n",
    "        c_denominator = float(c_top/c_bottom)\n",
    "        \n",
    "    if (c_type==\"between\"):\n",
    "        c_denominator = (n_val*n_val*(n_val-2))\n",
    "        \n",
    "    if (c_type==\"eigen\"):\n",
    "\n",
    "        c_denominator = np.sqrt(2)/2 * (n_val - 2)\n",
    "    \n",
    "    c_node_max = max(centrality.values())\n",
    "    c_sorted = sorted(centrality.values(),reverse=True)\n",
    "\n",
    "    c_numerator = 0\n",
    "\n",
    "    for value in c_sorted:\n",
    "        if c_type == \"degree\":\n",
    "            #remove normalisation for each value\n",
    "            c_numerator += (c_node_max*(n_val-1) - value*(n_val-1))\n",
    "        else:\n",
    "            c_numerator += (c_node_max - value)\n",
    "\n",
    "    network_centrality = float(c_numerator/c_denominator)\n",
    "    \n",
    "    if c_type == \"between\":\n",
    "        network_centrality = network_centrality * 2\n",
    "\n",
    "    return network_centrality\n"
   ]
  },
  {
   "cell_type": "code",
   "execution_count": 23,
   "id": "3ec6215a",
   "metadata": {},
   "outputs": [
    {
     "data": {
      "text/plain": [
       "0.006179916577658883"
      ]
     },
     "execution_count": 23,
     "metadata": {},
     "output_type": "execute_result"
    }
   ],
   "source": [
    "# Get the network centralization score \n",
    "centrality =  nx.eigenvector_centrality(G)\n",
    "getCentralization(centrality, 'eigen')\n",
    "\n",
    "# Get network density\n",
    "nx.density(G)\n"
   ]
  },
  {
   "cell_type": "markdown",
   "id": "4b077a66",
   "metadata": {},
   "source": [
    "#### Get the network statistics for inidividual graphs"
   ]
  },
  {
   "cell_type": "code",
   "execution_count": 221,
   "id": "7addbabb",
   "metadata": {},
   "outputs": [],
   "source": [
    "def visualize_action(SEQID =10, item=1, book='PS1'):\n",
    "    import networkx as nx\n",
    "    G = nx.DiGraph()\n",
    "    ex_actions = dat_pbs[(dat_pbs.SEQID == SEQID) & (dat_pbs.item_id ==item) & (dat_pbs.booklet_id == book)][['event_type', 'timestamp']]\n",
    "    time = ex_actions['timestamp'].diff().fillna(0)\n",
    "    \n",
    "    edges = []\n",
    "    for i in range(len(ex_actions['event_type'].tolist())):\n",
    "        try:\n",
    "            temp = (ex_actions['event_type'].tolist()[i], ex_actions['event_type'].tolist()[i+1])\n",
    "            edges.append(temp)\n",
    "        except: \n",
    "            None\n",
    "    import networkx as nx \n",
    "    #G=nx.from_edgelist(edges)\n",
    "    from collections import Counter\n",
    "    weight_dic = dict(Counter(edges))\n",
    "    G = nx.DiGraph()\n",
    "    G.add_nodes_from(ex_actions['event_type'].tolist())\n",
    "    for i, j in zip(edges, time.tolist()):\n",
    "        G.add_edge(i[0], i[1], weight=weight_dic[(i[0], i[1])] )\n",
    "    G.add_node('START',size=15, group=2)\n",
    "    return G \n",
    "\n",
    "def network_stats(item=1, book='PS1'):\n",
    "    val1=[]\n",
    "    val2=[]\n",
    "    val3=[]\n",
    "    students = list(set(dat_pbs.SEQID))\n",
    "    for i in students:\n",
    "        #print('analyze ----- ', i )\n",
    "        G= visualize_action(SEQID = i, item=item, book=book)\n",
    "        #print(G.is_directed())\n",
    "        centrality =  nx.betweenness_centrality(G)\n",
    "        val1.append(getCentralization(centrality, 'between'))\n",
    "        try:\n",
    "            ########### YOUR CODE HERE #################\n",
    "            # Compute the network density and append it to val2\n",
    "            \n",
    "            \n",
    "            #############################################\n",
    "        except:\n",
    "            val2.append(np.nan)\n",
    "        try:\n",
    "            ########### YOUR CODE HERE #################\n",
    "            # Compute the network hierarchy using `nx.flow_hierarchy()` and append it to val2\n",
    "            \n",
    "            \n",
    "            #############################################\n",
    "            \n",
    "        except:\n",
    "            val3.append(np.nan)\n",
    "            \n",
    "            \n",
    "        ############################YOUR CODE HERE##############################\n",
    "        # Anything else you would like to add? \n",
    "        \n",
    "        \n",
    "        ########################################################################\n",
    "        \n",
    "    result = pd.DataFrame(list(zip(val1, val2, val3)))\n",
    "    result.columns = ['centralization', 'density', 'flow']\n",
    "    result['SEQID'] = students\n",
    "    result = result.set_index('SEQID')\n",
    "    return result\n"
   ]
  },
  {
   "cell_type": "markdown",
   "id": "9ede1e55",
   "metadata": {},
   "source": [
    "### Task 3: Evaluating Various Network Statistics\n",
    "\n",
    "> Items in PS1 booklet "
   ]
  },
  {
   "cell_type": "code",
   "execution_count": null,
   "id": "c0a0924c",
   "metadata": {},
   "outputs": [],
   "source": [
    "#Let's test the correlation with the final score \n",
    "\n",
    "items_ps1 =  ['U01a000S', 'U01b000S',  'U03a000S',  'U06a000S','U06b000S','U21x000S', 'U04a000S']\n",
    "\n",
    "items = range(1, 8 )\n",
    "result_df =[]\n",
    "for i,j  in zip(items, items_ps1):\n",
    "    result= network_stats(item=i, book='PS1') #for PS1 first \n",
    "    result['score'] = dat2_pbs[j].replace({'N':np.nan}).astype(float)\n",
    "    print(result.corr())\n",
    "    result_df.append(result)"
   ]
  },
  {
   "cell_type": "markdown",
   "id": "ed7f152f",
   "metadata": {},
   "source": [
    "> Items in PS2 booklet "
   ]
  },
  {
   "cell_type": "code",
   "execution_count": null,
   "id": "d2b2e437",
   "metadata": {},
   "outputs": [],
   "source": [
    "items_ps2 = ['U19a000S', 'U19b000S', 'U07x000S','U02x000S', 'U03a000S','U16x000S',  'U11b000S', 'U23x000S']\n",
    "\n",
    "items = range(1, 8 )\n",
    "result_df =[]\n",
    "for i,j  in zip(items, items_ps2):\n",
    "    result= network_stats(item=i, book='PS2') #for PS1 first \n",
    "    result['score'] = dat2_pbs[j].replace({'N':np.nan}).astype(float)\n",
    "    print(result.corr())\n",
    "    result_df.append(result)"
   ]
  }
 ],
 "metadata": {
  "colab": {
   "name": "week9.ipynb",
   "provenance": []
  },
  "kernelspec": {
   "display_name": "Python 3 (ipykernel)",
   "language": "python",
   "name": "python3"
  },
  "language_info": {
   "codemirror_mode": {
    "name": "ipython",
    "version": 3
   },
   "file_extension": ".py",
   "mimetype": "text/x-python",
   "name": "python",
   "nbconvert_exporter": "python",
   "pygments_lexer": "ipython3",
   "version": "3.8.8"
  }
 },
 "nbformat": 4,
 "nbformat_minor": 5
}
