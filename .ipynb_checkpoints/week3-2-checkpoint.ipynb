{
 "cells": [
  {
   "cell_type": "markdown",
   "id": "530144c4",
   "metadata": {
    "id": "530144c4"
   },
   "source": [
    "<h1><center>  lab 4 : ML Overview: Unsupervised Learning algorithms </center>\n",
    "    \n",
    "<img src=\"https://files.realpython.com/media/K-Means-Clustering-in-Python_Watermarked.14dc56523461.jpg\" width=\"500\">\n"
   ]
  },
  {
   "cell_type": "markdown",
   "id": "c3c7066e",
   "metadata": {
    "id": "c3c7066e"
   },
   "source": [
    "```Created by Jinnie Shin (jinnie.shin@coe.ufl.edu)```\\\n",
    "```Date: May 24th 2022```\n",
    "\n",
    "```Image source: https://files.realpython.com/media/K-Means-Clustering-in-Python_Watermarked.14dc56523461.jpg```\n",
    "\n",
    "\n",
    "\n",
    "<img src=\"https://encrypted-tbn0.gstatic.com/images?q=tbn:ANd9GcQmNf86oJnfhpkPA9LnrFnAbfwF2VywPYpB_w&usqp=CAU\" align=\"left\" width=\"70\" height=\"70\" align=\"left\"> \n",
    "\n",
    " ### Required Packages or Dependencies"
   ]
  },
  {
   "cell_type": "code",
   "execution_count": 2,
   "id": "02eac3c7",
   "metadata": {
    "id": "02eac3c7"
   },
   "outputs": [],
   "source": [
    "#!pip install { } ! in case you run into the `package not avaialble` error\n",
    "import numpy as np\n",
    "import pandas as pd\n",
    "import matplotlib.pyplot as plt\n",
    "from collections import Counter"
   ]
  },
  {
   "cell_type": "markdown",
   "id": "e37dfed1",
   "metadata": {
    "id": "e37dfed1"
   },
   "source": [
    "\n",
    "## Dataset\n",
    "> Collaborative problem solving (CPS) Data (Polyak et al., 2017).\\\n",
    "> *“a sample of middle school children who interacted with a game-like, online simulation of collaborative problem-solving tasks.”*\n",
    "\n",
    "---\n",
    "#### Collaborative Problem Solving Variables\n",
    "\n",
    "| Variable            | \n",
    "|-----------------------------|\n",
    "| Feture Identification (FI)                 | \n",
    "| Maintaining a Shared Understanding (MU)                     | \n",
    "| Engagement/Interaction (EN)           | \n",
    "| Strategy (S) | \n",
    "| Evaluate (EV)             | \n",
    "\n",
    "\n"
   ]
  },
  {
   "cell_type": "code",
   "execution_count": 5,
   "id": "f03eea15",
   "metadata": {
    "id": "f03eea15",
    "outputId": "e9c2c099-cc9d-495b-a255-d06186aae04c"
   },
   "outputs": [
    {
     "data": {
      "text/html": [
       "<div>\n",
       "<style scoped>\n",
       "    .dataframe tbody tr th:only-of-type {\n",
       "        vertical-align: middle;\n",
       "    }\n",
       "\n",
       "    .dataframe tbody tr th {\n",
       "        vertical-align: top;\n",
       "    }\n",
       "\n",
       "    .dataframe thead th {\n",
       "        text-align: right;\n",
       "    }\n",
       "</style>\n",
       "<table border=\"1\" class=\"dataframe\">\n",
       "  <thead>\n",
       "    <tr style=\"text-align: right;\">\n",
       "      <th></th>\n",
       "      <th>0</th>\n",
       "      <th>1</th>\n",
       "      <th>2</th>\n",
       "      <th>3</th>\n",
       "      <th>4</th>\n",
       "    </tr>\n",
       "  </thead>\n",
       "  <tbody>\n",
       "    <tr>\n",
       "      <th>0</th>\n",
       "      <td>47</td>\n",
       "      <td>10</td>\n",
       "      <td>26</td>\n",
       "      <td>3</td>\n",
       "      <td>7</td>\n",
       "    </tr>\n",
       "    <tr>\n",
       "      <th>1</th>\n",
       "      <td>39</td>\n",
       "      <td>21</td>\n",
       "      <td>31</td>\n",
       "      <td>4</td>\n",
       "      <td>9</td>\n",
       "    </tr>\n",
       "    <tr>\n",
       "      <th>2</th>\n",
       "      <td>43</td>\n",
       "      <td>31</td>\n",
       "      <td>77</td>\n",
       "      <td>4</td>\n",
       "      <td>3</td>\n",
       "    </tr>\n",
       "    <tr>\n",
       "      <th>3</th>\n",
       "      <td>55</td>\n",
       "      <td>41</td>\n",
       "      <td>67</td>\n",
       "      <td>2</td>\n",
       "      <td>0</td>\n",
       "    </tr>\n",
       "    <tr>\n",
       "      <th>4</th>\n",
       "      <td>2</td>\n",
       "      <td>0</td>\n",
       "      <td>0</td>\n",
       "      <td>0</td>\n",
       "      <td>0</td>\n",
       "    </tr>\n",
       "    <tr>\n",
       "      <th>...</th>\n",
       "      <td>...</td>\n",
       "      <td>...</td>\n",
       "      <td>...</td>\n",
       "      <td>...</td>\n",
       "      <td>...</td>\n",
       "    </tr>\n",
       "    <tr>\n",
       "      <th>154</th>\n",
       "      <td>2</td>\n",
       "      <td>13</td>\n",
       "      <td>14</td>\n",
       "      <td>1</td>\n",
       "      <td>1</td>\n",
       "    </tr>\n",
       "    <tr>\n",
       "      <th>155</th>\n",
       "      <td>17</td>\n",
       "      <td>19</td>\n",
       "      <td>39</td>\n",
       "      <td>5</td>\n",
       "      <td>1</td>\n",
       "    </tr>\n",
       "    <tr>\n",
       "      <th>156</th>\n",
       "      <td>2</td>\n",
       "      <td>4</td>\n",
       "      <td>7</td>\n",
       "      <td>2</td>\n",
       "      <td>0</td>\n",
       "    </tr>\n",
       "    <tr>\n",
       "      <th>157</th>\n",
       "      <td>6</td>\n",
       "      <td>13</td>\n",
       "      <td>17</td>\n",
       "      <td>3</td>\n",
       "      <td>1</td>\n",
       "    </tr>\n",
       "    <tr>\n",
       "      <th>158</th>\n",
       "      <td>0</td>\n",
       "      <td>5</td>\n",
       "      <td>9</td>\n",
       "      <td>2</td>\n",
       "      <td>0</td>\n",
       "    </tr>\n",
       "  </tbody>\n",
       "</table>\n",
       "<p>159 rows × 5 columns</p>\n",
       "</div>"
      ],
      "text/plain": [
       "      0   1   2  3  4\n",
       "0    47  10  26  3  7\n",
       "1    39  21  31  4  9\n",
       "2    43  31  77  4  3\n",
       "3    55  41  67  2  0\n",
       "4     2   0   0  0  0\n",
       "..   ..  ..  .. .. ..\n",
       "154   2  13  14  1  1\n",
       "155  17  19  39  5  1\n",
       "156   2   4   7  2  0\n",
       "157   6  13  17  3  1\n",
       "158   0   5   9  2  0\n",
       "\n",
       "[159 rows x 5 columns]"
      ]
     },
     "execution_count": 5,
     "metadata": {},
     "output_type": "execute_result"
    }
   ],
   "source": [
    "data = pd.read_csv('./week3_data/cps.csv', header=None)\n",
    "data # Let's try to provide column names "
   ]
  },
  {
   "cell_type": "markdown",
   "id": "da6db121",
   "metadata": {
    "id": "da6db121"
   },
   "source": [
    "<img src=\"https://i.pinimg.com/736x/2e/aa/7d/2eaa7d5021ca7c3c98bc93b98b9646fe.jpg\" align=\"left\" width=\"70\" height=\"70\" align=\"left\">\n",
    "\n",
    " ## Task 1: K-means from scratch\n",
    " > **STEP 1**: Create your data (X) - Hint: `create_samples`, k= 3, n_points = 100\\\n",
    " > **STEP 2**: Generate Initial Centroids - Hint: `np.random.rand( , )` to generate the initial values\\\n",
    " > **STEP 3**: Iterate until the centroids do not change OR let's do **10** iterations - Hint: For/while loop\\\n",
    " > **STEP 4**: Make sure you plot the changes using `plot_clusters`"
   ]
  },
  {
   "cell_type": "code",
   "execution_count": 29,
   "id": "b7f0c1da",
   "metadata": {
    "id": "b7f0c1da",
    "outputId": "8cf97a4b-4747-48f0-ec0f-7fb46dcf2b25"
   },
   "outputs": [],
   "source": [
    "import matplotlib.pyplot as plt # to plot clusters \n",
    "import numpy as np # for basic algebra operations \n",
    "\n",
    "\n",
    "def create_samples(n_center= 3, n_points = 100):\n",
    "    #img_counter= 0 \n",
    "    for i in range(n_center):\n",
    "        m = [15*np.random.random(),10*np.random.random()]\n",
    "        a=np.random.multivariate_normal(m,[[1,0],[0,1]], n_points)    \n",
    "        \n",
    "        if i==0:\n",
    "            X=a\n",
    "        else:    \n",
    "            X=np.vstack((X,a))\n",
    "        \n",
    "    plt.figure(figsize=(10,8))\n",
    "    plt.scatter(X[:,0],X[:,1])\n",
    "    return X \n",
    "    \n",
    "def compute_clusters(X,centroids,k): # Assign \n",
    "    clusters=dict()                      #receives X(data), centroids, and k(cluster number)\n",
    "    for i in range(k):\n",
    "        clusters[i]=[]\n",
    "    for data in X:\n",
    "        e_distance=[]\n",
    "        for j in range(k):\n",
    "            e_distance.append(np.linalg.norm(data - centroids[j]))\n",
    "        clusters[e_distance.index(min(e_distance))].append(data)\n",
    "    return clusters    \n",
    " \n",
    "def compute_centroids(centroids,clusters,k): # Update: computes the new centroids \n",
    "    for i in range(k):\n",
    "        centroids[i]=np.average(clusters[i],axis=0)\n",
    "    return centroids\n",
    "\n",
    "\n",
    "def plot_clusters(centroids,clusters,k): # plot your clusters \n",
    "    colors = [\"red\", \"blue\" , \"green\", \"orange\"]\n",
    "    plt.figure(figsize=(10,8))  \n",
    "    area = (20)**2\n",
    "    for i in range(k):\n",
    "        for cluster in clusters[i]:\n",
    "            plt.scatter(cluster[0],cluster[1],c=colors[i % 3])          \n",
    "        plt.scatter(centroids[i][0],centroids[i][1],s=area,marker='^', edgecolors='white',c=colors[i % 3])\n"
   ]
  },
  {
   "cell_type": "code",
   "execution_count": null,
   "id": "45b0fa0a",
   "metadata": {
    "id": "45b0fa0a"
   },
   "outputs": [],
   "source": [
    "############################# YOUR CODE HERE ##################################\n",
    "\n",
    "# STEP 1: Create your data (X) - Hint: create_samples, k= 3, n_points = 100\n",
    "\n",
    "\n",
    "\n",
    "\n",
    "\n",
    "# STEP 2: Generate Initial Centroids -\n",
    "\n",
    "\n",
    "\n",
    "\n",
    "\n",
    "\n",
    "# STEP 3: Iterate until the centroids do not change - Hint: compute_clusters, compute_ceontroids \n",
    "          # Make sure you plot the changes using 'plot_clusters'\n",
    "\n",
    "    \n",
    "    \n",
    "    \n",
    "    \n",
    "###############################################################################    "
   ]
  },
  {
   "cell_type": "markdown",
   "id": "a4df2964",
   "metadata": {
    "id": "8f3f471d"
   },
   "source": [
    "<img src=\"https://i.pinimg.com/736x/2e/aa/7d/2eaa7d5021ca7c3c98bc93b98b9646fe.jpg\" align=\"left\" width=\"70\" height=\"70\" align=\"left\">\n",
    "\n",
    " ## Task 2: CPS dataset \n",
    " > Let's conduct clustering analysis with our CPS dataset.\n",
    " \n",
    " > Remember we learned several variations of clustering algorithms -- K-means, Hiearchical clustering..\\\n",
    " > We can do the analysis simply using `sklearn.cluster`. In order to call the algorithms\\\n",
    " > `from sklearn.cluster import KMeans` and `from sklearn.cluster import AgglomerativeClustering`\n",
    "\n",
    "### Kmeans Clustering "
   ]
  },
  {
   "cell_type": "code",
   "execution_count": 51,
   "id": "527d05ff",
   "metadata": {},
   "outputs": [
    {
     "data": {
      "text/plain": [
       "\"\\ndata.columns = ['FI','MU','EM', 'EV', 'S']\\nkmeans = KMeans(n_clusters=3).fit(data)\\nprint(Counter(kmeans.labels_))\\n\\ncolor_theme = np.array(['red','green','blue'])\\n\\nplt.scatter(x=data.FI, y=data.EM, \\n            c=color_theme[kmeans.labels_], s=30)\\nplt.xlabel(data.columns[0], fontsize=12)\\nplt.ylabel(data.columns[2], fontsize=12)\\nplt.show()\\n\""
      ]
     },
     "execution_count": 51,
     "metadata": {},
     "output_type": "execute_result"
    },
    {
     "data": {
      "text/plain": [
       "<Figure size 432x432 with 0 Axes>"
      ]
     },
     "metadata": {},
     "output_type": "display_data"
    }
   ],
   "source": [
    "import matplotlib.pyplot as plt # this is to plot our results \n",
    "from sklearn.cluster import KMeans\n",
    "\n",
    "%matplotlib inline\n",
    "plt.figure(figsize=(6, 6)) # setting the plot resolutions \n",
    "\n",
    "################ What was our CPS data called?\n",
    "\n",
    "\n",
    "################ How do we extract a feature matrix from a pandas dataframe? \n",
    "'''\n",
    "data.columns = ['FI','MU','EM', 'EV', 'S']\n",
    "kmeans = KMeans(n_clusters=3).fit(data)\n",
    "kmeans_labels = kmeans.labels_\n",
    "print(Counter(kmeans.labels_))\n",
    "\n",
    "color_theme = np.array(['red','green','blue'])\n",
    "\n",
    "plt.scatter(x=data.FI, y=data.EM, \n",
    "            c=color_theme[kmeans.labels_], s=30)\n",
    "plt.xlabel(data.columns[0], fontsize=12)\n",
    "plt.ylabel(data.columns[2], fontsize=12)\n",
    "plt.show()\n",
    "'''"
   ]
  },
  {
   "cell_type": "markdown",
   "id": "15aa3fde",
   "metadata": {},
   "source": [
    "### Hierarchical Clustering"
   ]
  },
  {
   "cell_type": "code",
   "execution_count": 46,
   "id": "3cf0684d",
   "metadata": {},
   "outputs": [
    {
     "data": {
      "text/plain": [
       "\"\\nZ = linkage(data, 'average') \\n\\ndendrogram(Z, truncate_mode='lastp', p=12, leaf_rotation=-45.,\\n           leaf_font_size=12., show_contracted=True)\\n\\nplt.xlabel('Cluster Size', fontsize=12)\\nplt.ylabel('Distance', fontsize=12)\\nplt.axhline(y=30, linestyle='dashed')\\nplt.axhline(y=10, linestyle='dotted')\\nplt.show()\\n\""
      ]
     },
     "execution_count": 46,
     "metadata": {},
     "output_type": "execute_result"
    },
    {
     "data": {
      "text/plain": [
       "<Figure size 576x288 with 0 Axes>"
      ]
     },
     "metadata": {},
     "output_type": "display_data"
    }
   ],
   "source": [
    "import matplotlib.pyplot as plt # this is to plot our results \n",
    "from scipy.cluster.hierarchy import dendrogram, linkage # this is to define a linkage method\n",
    "from sklearn.cluster import AgglomerativeClustering\n",
    "\n",
    "%matplotlib inline\n",
    "plt.style.use('seaborn-whitegrid')\n",
    "plt.figure(figsize=(8, 4))\n",
    "\n",
    "################ Let's define a linkage method \n",
    "\n",
    "'''\n",
    "Z = linkage(data, 'average') \n",
    "\n",
    "dendrogram(Z, truncate_mode='lastp', p=12, leaf_rotation=-45.,\n",
    "           leaf_font_size=12., show_contracted=True)\n",
    "\n",
    "plt.xlabel('Cluster Size', fontsize=12)\n",
    "plt.ylabel('Distance', fontsize=12)\n",
    "plt.axhline(y=30, linestyle='dashed')\n",
    "plt.axhline(y=10, linestyle='dotted')\n",
    "plt.show()\n",
    "\n",
    "\n",
    "'''"
   ]
  },
  {
   "cell_type": "code",
   "execution_count": 52,
   "id": "848c1262",
   "metadata": {},
   "outputs": [
    {
     "data": {
      "text/plain": [
       "array([0, 0, 3, 3, 2, 3, 0, 3, 1, 3, 1, 1, 2, 2, 1, 1, 1, 1, 3, 2, 2, 2,\n",
       "       0, 3, 1, 1, 3, 2, 1, 2, 3, 2, 1, 0, 1, 0, 3, 2, 3, 2, 2, 2, 2, 0,\n",
       "       1, 1, 3, 2, 3, 1, 2, 0, 2, 3, 3, 1, 2, 2, 2, 1, 2, 3, 1, 0, 1, 1,\n",
       "       3, 3, 1, 0, 1, 1, 1, 2, 2, 1, 0, 0, 0, 2, 1, 0, 2, 0, 2, 2, 0, 1,\n",
       "       0, 1, 1, 2, 1, 2, 0, 1, 1, 2, 2, 2, 2, 2, 1, 2, 2, 1, 2, 0, 2, 3,\n",
       "       2, 2, 1, 0, 0, 0, 0, 0, 2, 2, 2, 1, 2, 2, 2, 0, 1, 0, 0, 2, 1, 3,\n",
       "       1, 2, 1, 1, 3, 1, 2, 2, 0, 1, 1, 2, 2, 3, 1, 2, 1, 2, 0, 2, 2, 0,\n",
       "       2, 0, 2, 2, 2])"
      ]
     },
     "execution_count": 52,
     "metadata": {},
     "output_type": "execute_result"
    }
   ],
   "source": [
    "'''cluster = AgglomerativeClustering(n_clusters=4, affinity='euclidean', linkage='average')\n",
    "ac_labels = cluster.fit_predict(data)\n",
    "'''"
   ]
  },
  {
   "cell_type": "markdown",
   "id": "baf57e91",
   "metadata": {},
   "source": [
    "### DBSCAN (Density-Based Spatial Clustering of Applications with Noise)\n",
    "> \"Finds core samples of high density and expands clusters from them.\\\n",
    "> Good for data which contains clusters of similar density\" (scikit-learn, n.d.).\n",
    "> - Link: https://scikit-learn.org/stable/modules/generated/sklearn.cluster.DBSCAN.html"
   ]
  },
  {
   "cell_type": "code",
   "execution_count": 53,
   "id": "ecb581a4",
   "metadata": {},
   "outputs": [
    {
     "data": {
      "text/plain": [
       "'\\n%matplotlib inline\\nplt.figure(figsize=(7, 7))\\n\\nmodel = DBSCAN(eps=8.0, min_samples=8).fit(data)\\nprint(Counter(model.labels_))\\n\\ncolor_theme = cm.rainbow(np.linspace(0,1,len(Counter(model.labels_))))\\nplt.scatter(x=data.FI,y=data.EM,c=color_theme[model.labels_],s=30)\\nplt.xlabel(data.columns[0], fontsize=12)\\nplt.ylabel(data.columns[2], fontsize=12)\\nplt.show()\\n'"
      ]
     },
     "execution_count": 53,
     "metadata": {},
     "output_type": "execute_result"
    }
   ],
   "source": [
    "import matplotlib.pyplot as plt\n",
    "import matplotlib.cm as cm\n",
    "from sklearn.cluster import DBSCAN\n",
    "\n",
    "'''\n",
    "%matplotlib inline\n",
    "plt.figure(figsize=(7, 7))\n",
    "\n",
    "model = DBSCAN(eps=8.0, min_samples=8).fit(data)\n",
    "dbscan_labels = model.labels_\n",
    "print(Counter(model.labels_))\n",
    "\n",
    "color_theme = cm.rainbow(np.linspace(0,1,len(Counter(model.labels_))))\n",
    "plt.scatter(x=data.FI,y=data.EM,c=color_theme[model.labels_],s=30)\n",
    "plt.xlabel(data.columns[0], fontsize=12)\n",
    "plt.ylabel(data.columns[2], fontsize=12)\n",
    "plt.show()\n",
    "'''"
   ]
  },
  {
   "cell_type": "markdown",
   "id": "210d9280",
   "metadata": {},
   "source": [
    "### Let's compare the model results \n",
    "> explore! `kmeans_labels`, `ac_labels`, and `dbscan_labels`\\\n",
    "> Let's try to put them into a dataframe.\n"
   ]
  },
  {
   "cell_type": "code",
   "execution_count": null,
   "id": "1f6ca785",
   "metadata": {},
   "outputs": [],
   "source": [
    "\n",
    "\n",
    "\n",
    "\n",
    "\n"
   ]
  },
  {
   "cell_type": "code",
   "execution_count": null,
   "id": "1e23930c",
   "metadata": {},
   "outputs": [],
   "source": []
  }
 ],
 "metadata": {
  "colab": {
   "name": "week9.ipynb",
   "provenance": []
  },
  "kernelspec": {
   "display_name": "Python 3 (ipykernel)",
   "language": "python",
   "name": "python3"
  },
  "language_info": {
   "codemirror_mode": {
    "name": "ipython",
    "version": 3
   },
   "file_extension": ".py",
   "mimetype": "text/x-python",
   "name": "python",
   "nbconvert_exporter": "python",
   "pygments_lexer": "ipython3",
   "version": "3.8.8"
  }
 },
 "nbformat": 4,
 "nbformat_minor": 5
}
